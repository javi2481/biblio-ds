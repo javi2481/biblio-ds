{
  "nbformat": 4,
  "nbformat_minor": 0,
  "metadata": {
    "kernelspec": {
      "display_name": "Python 3",
      "language": "python",
      "name": "python3"
    },
    "language_info": {
      "codemirror_mode": {
        "name": "ipython",
        "version": 3
      },
      "file_extension": ".py",
      "mimetype": "text/x-python",
      "name": "python",
      "nbconvert_exporter": "python",
      "pygments_lexer": "ipython3",
      "version": "3.7.3"
    },
    "colab": {
      "name": "Copia de DS_Bitácora_05_Probabilidad.ipynb",
      "provenance": [],
      "collapsed_sections": [],
      "toc_visible": true,
      "include_colab_link": true
    }
  },
  "cells": [
    {
      "cell_type": "markdown",
      "metadata": {
        "id": "view-in-github",
        "colab_type": "text"
      },
      "source": [
        "<a href=\"https://colab.research.google.com/github/javi2481/biblio-ds/blob/master/Copia_de_DS_Bit%C3%A1cora_05_Probabilidad.ipynb\" target=\"_parent\"><img src=\"https://colab.research.google.com/assets/colab-badge.svg\" alt=\"Open In Colab\"/></a>"
      ]
    },
    {
      "cell_type": "markdown",
      "metadata": {
        "id": "GEFRqVgwU4TH",
        "colab_type": "text"
      },
      "source": [
        "# Probabilidad y Estadística\n",
        "\n",
        "El objetivo del siguiente notebook es afianzar algunos conceptos de Probabilidad y, de paso, empezar a ver cómo se hacen gráficos con Matplotlib, una nueva librería que veremos más en detalle en la próxima bitácora y encuentro. Por ahora, solamente tienen que instalarla y correr las celdas. ¡No te preocupes si no entiendes lo que hacen esas celdas! Lo importante es que prestes atención a sus resultados.\n",
        "\n",
        "## 1. Distribuciones de probabilidad\n",
        "\n",
        "El concepto de distribución de probabilidad es un concepto central en probabilidad y estadística y, por lo tanto, hay mucho para decir. Nos limitamos acá a los puntos más importantes.\n",
        "\n",
        "\n",
        "### 1.1 Distrubución Uniforme Discreta\n",
        "\n",
        "Comencemos por un ejemplo: un dado de seis caras. La probabilidad de que al tirar el dado *salga* una cara es $1/6$. Si graficamos la probabilidad para cada resultado posible de tirar un dado, obtendríamos un gráfico como el siguiente:"
      ]
    },
    {
      "cell_type": "code",
      "metadata": {
        "id": "J-fHqWnzU4TR",
        "colab_type": "code",
        "colab": {}
      },
      "source": [
        "import numpy as np\n",
        "import matplotlib.pyplot as plt"
      ],
      "execution_count": null,
      "outputs": []
    },
    {
      "cell_type": "code",
      "metadata": {
        "id": "VSbq4R-aU4Tt",
        "colab_type": "code",
        "colab": {
          "base_uri": "https://localhost:8080/",
          "height": 281
        },
        "outputId": "beb6b0e3-233e-417b-ecb4-5d3742d07442"
      },
      "source": [
        "import numpy as np\n",
        "import matplotlib.pyplot as plt\n",
        "valores = np.arange(1,7)\n",
        "probas = np.zeros(6) + 1/6\n",
        "plt.bar(valores, probas)\n",
        "plt.title('Distribución de probabilidad uniforme: lanzamiento de un dado')\n",
        "# plt.savefig('distribucion_dado.png', dpi = 400)\n",
        "plt.show()"
      ],
      "execution_count": 2,
      "outputs": [
        {
          "output_type": "display_data",
          "data": {
            "image/png": "[encoded data removed]",
            "text/plain": [
              "<Figure size 432x288 with 1 Axes>"
            ]
          },
          "metadata": {
            "tags": [],
            "needs_background": "light"
          }
        }
      ]
    },
    {
      "cell_type": "markdown",
      "metadata": {
        "id": "Hl-vXlaCU4T_",
        "colab_type": "text"
      },
      "source": [
        "En este caso, decimos que la distribución de probabilidad es *uniforme discreta*, ya que le asigna la misma probabilidad a los seis valores que pueden salir al tirar el dado. Si el dado estuviera cargado, ya no sería uniforme.\n",
        "\n",
        "**Algunos detalles**:\n",
        "1. El resultado de tirar un dado es un ejemplo de una *variable aleatoria*.\n",
        "2. En el caso del dado, la variable aleatoria puede tomar valores *discretos* y *acotados* (limitados): 1, 2, 3, 4, 5 y 6\n",
        "3. Existen variables aleatorias donde los posibles valores que puede tomar son continuos y no acotados. Veremos la distribución más famosa de ellas a continuación."
      ]
    },
    {
      "cell_type": "markdown",
      "metadata": {
        "id": "mIXL9A1yU4UE",
        "colab_type": "text"
      },
      "source": [
        "### 1.2 Distribución Normal o Gaussiana\n",
        "\n",
        "La distribución normal o gaussiana debe ser la distribución más famosa dentro de las distribuciones. Es una distribución de variable continua y aparece en una infinidad de ámbitos de la ciencia. Muchas variables asociadas a fenómenos naturales siguen una distribución gaussiana; un ejemplo típico es la estatura de las personas. La forma que tiene esta distribución está dada por la siguiente fórmula:\n",
        "\n",
        "$$f(x|\\mu, \\sigma^2)=\\frac{1}{\\sqrt{2 \\pi \\sigma^2}}e^{\\frac{-(x - \\mu)^2}{2\\sigma^2}}$$\n",
        "\n",
        "¡No te asustes si no la entiendes! Durante el encuentro, veremos más en detalle algunos aspectos de esta distribución. Pero es importante resaltar que tiene sólo dos parámetros: su valor medio $\\mu$ y su desviacíon estándar $\\sigma$. Estos valores son *teóricos*, es decir, son propios de la distribución de probabilidad. \n",
        "\n",
        "Recomendamos entrar en la página de Wikipedia de la [Distribución Normal](https://es.wikipedia.org/wiki/Distribuci%C3%B3n_normal) y prestar atención al primer gráfico - dónde podrán ver la forma teórica de la distribución - y a la sección \"Propiedades\".\n",
        "\n",
        "\n",
        "**Distribución Normal en NumPy**\n",
        "\n",
        "Como mencionamos en el encuentro anterior, NumPy nos provee de herramientas para generar valores aleatorios de distribuciones. A continuación generamos, usando `np.random.normal()`, muestras de dos distribuciones normales, con el mismo valor medio pero distinta desviación estándar. **Consultar** la ayuda de la función para entender bien qué hace."
      ]
    },
    {
      "cell_type": "code",
      "metadata": {
        "scrolled": true,
        "id": "mnQ6ZwhAU4UJ",
        "colab_type": "code",
        "colab": {
          "base_uri": "https://localhost:8080/",
          "height": 1000
        },
        "outputId": "4bcd0b5d-4ac4-4994-8b6c-8bff6ee57bed"
      },
      "source": [
        "import numpy as np\n",
        "mu = 2.0\n",
        "sigma_1 = 5.0\n",
        "sigma_2 = 2.0\n",
        "muestras_1 = np.random.normal(loc = mu, scale = sigma_1, size = 400)\n",
        "muestras_2 = np.random.normal(loc = mu, scale = sigma_2, size = 400)\n",
        "print(muestras_1, muestras_2)"
      ],
      "execution_count": 3,
      "outputs": [
        {
          "output_type": "stream",
          "text": [
            "[ 5.15985628e+00  9.94394277e+00  1.04292075e+01  9.98922724e+00\n",
            "  2.76913307e+00 -7.25310207e+00 -6.40954364e-03 -6.57010819e-01\n",
            "  7.17223283e+00 -7.54883581e-02  4.84791413e+00  9.82183121e+00\n",
            " -1.83685937e+00 -7.08418237e-01  1.02297005e+01 -1.68167053e+00\n",
            " -7.60762068e+00 -5.84370002e+00  2.78508717e+00  3.80706220e+00\n",
            " -2.95996691e+00  1.12735158e+01  7.95333758e+00  3.17754211e+00\n",
            "  2.41690496e+00  6.10586751e+00  4.37327961e+00  1.35023192e+01\n",
            "  2.24816826e-01 -4.05802924e+00  5.77690372e+00 -1.56667933e-01\n",
            "  1.85502722e+00  1.27560108e+00 -2.65916864e+00  7.05619314e+00\n",
            "  9.12717259e-01  1.81666415e+00 -3.95651782e+00  1.52962729e+00\n",
            " -4.23018418e+00  5.77553360e+00 -3.38560824e+00  1.57440044e+01\n",
            "  1.57919338e+00  6.30759078e+00  3.99107945e+00 -4.04023777e+00\n",
            " -1.94399291e+00 -9.74479771e+00  4.12774632e+00 -6.30774575e-01\n",
            " -3.97578670e+00  1.99041943e+00 -3.03036637e+00  3.27537119e+00\n",
            "  1.36966556e+00  4.88683311e+00 -4.32394790e+00  8.67611592e+00\n",
            " -2.39739571e+00  7.03477411e+00 -2.01104051e+00  1.34088772e+01\n",
            " -8.95945548e+00  4.07542495e+00  7.31744133e+00  4.03506575e+00\n",
            "  3.79800718e+00  4.25767523e+00 -2.27890412e+00  2.73635827e+00\n",
            "  8.84731190e+00  4.74199210e+00 -2.40227321e+00 -3.03453837e+00\n",
            "  3.48184331e+00  2.29841862e+00 -3.08710429e+00  7.86419183e+00\n",
            "  3.30836260e+00  7.79202286e+00  5.76583724e+00 -7.47890760e+00\n",
            "  4.27526993e+00  3.82978016e+00  1.11929717e+01  1.39709043e+00\n",
            "  2.45809015e+00  8.95267495e+00  7.33327585e+00 -5.42930503e+00\n",
            "  5.48888627e+00  1.24027290e-01  5.24110419e-01  9.20232877e+00\n",
            "  3.87561632e+00  2.18020183e-01  9.59611606e+00 -4.03720523e+00\n",
            "  2.40162047e+00  3.72149558e+00  4.41639498e+00 -2.23337055e-01\n",
            " -5.37438963e+00  1.27749016e-01  3.52327125e-02 -1.71016065e+00\n",
            "  5.42451802e+00  2.16181980e+00  4.92887832e+00  9.46447146e+00\n",
            "  1.10073617e+01  5.62750969e+00  9.49311993e+00  6.11600614e+00\n",
            "  4.74667245e+00  4.19645649e+00 -5.72813879e+00  3.71881975e+00\n",
            "  2.30657078e+00  1.32500741e+01  9.33172783e+00  1.57597417e+00\n",
            "  3.27485207e+00 -7.20373257e+00  4.18220429e+00  4.02682930e+00\n",
            "  4.33010891e+00 -8.60572202e-01 -2.67151526e+00  8.06122824e+00\n",
            "  6.64316742e+00 -4.91757140e+00  3.33807156e-01  2.86190698e+00\n",
            "  3.30859696e+00  3.31305979e+00 -1.59243937e+00  5.95528841e+00\n",
            "  2.72824622e+00 -6.60100191e+00 -9.57955012e-01  8.17749319e+00\n",
            "  2.06040374e+00  2.17237786e+00 -2.59283431e+00  6.26165873e+00\n",
            "  1.03258791e+01 -5.35702723e+00 -2.04030928e+00  1.54708475e+00\n",
            "  5.01565262e+00  3.77001283e+00 -2.18551219e+00 -2.00170025e-03\n",
            "  4.74459839e+00 -2.45575138e+00 -6.78519092e+00 -5.59273133e-01\n",
            "  2.47310952e+00  8.52840810e+00  6.25734538e+00  5.73315976e-01\n",
            " -1.27020465e+00 -1.59672950e+00  9.31394807e+00  2.46444733e+00\n",
            "  8.11933110e+00 -1.75089915e+00  1.09187357e+01 -2.72106775e+00\n",
            "  2.08420720e+00  6.57252374e+00  1.77047401e+00  4.85370115e+00\n",
            "  6.44026351e+00 -4.34348302e+00  1.22437676e+00 -5.46920099e+00\n",
            "  1.71590845e+00 -3.48719960e+00 -2.82912636e+00 -1.07004434e+00\n",
            "  6.37606505e+00  4.58025867e+00  1.00084373e-01  6.92259469e+00\n",
            "  1.12262325e+00 -2.30826015e+00  6.82832585e+00  2.21634069e+00\n",
            " -4.26207195e+00 -2.44698252e+00 -9.49474505e+00 -2.47024562e-01\n",
            " -5.80857539e+00  3.87464508e+00 -5.31295202e+00  8.70271216e+00\n",
            "  1.33899231e+01  8.59708410e+00 -5.44269908e+00 -3.66320791e+00\n",
            " -7.70607402e+00  3.33675748e+00  1.44402987e+01  1.30448268e+01\n",
            " -3.50485716e-01  2.17301582e+00  1.26938755e+01 -1.73386199e+00\n",
            " -1.00335081e+01  5.15481478e-01 -2.74359741e+00  5.75882438e+00\n",
            " -2.10712350e+00  2.60192783e+00 -4.23270362e+00 -1.91068527e+00\n",
            " -8.54321728e-01  2.82871989e+00 -4.82289790e+00 -2.75343676e+00\n",
            " -1.67537313e+00  3.15606237e+00 -5.71667718e+00  2.21395706e+00\n",
            "  8.25616385e+00  6.91623581e-02 -4.90215189e+00  5.70602904e+00\n",
            "  7.99049059e+00  1.04275466e+01  4.44849356e+00  1.46207039e+00\n",
            "  1.44582793e-01  6.69694613e+00  8.77465091e+00 -3.68448323e+00\n",
            " -7.44824271e+00 -4.51095694e+00  3.14697749e+00 -1.55362041e+00\n",
            " -6.80895642e+00 -7.68565944e+00  3.63980956e+00  6.54937948e+00\n",
            "  8.34216750e-02 -1.81339061e+00 -2.24149584e-01  9.46175484e-01\n",
            "  5.71504271e+00 -3.16251958e+00 -2.32781053e+00  6.91917155e+00\n",
            "  1.60176289e+01 -6.30215772e-01  5.55666609e+00  2.81767118e+00\n",
            "  9.26733041e+00 -1.01915052e+00  6.49682639e-01 -2.84591345e+00\n",
            " -1.15413347e+01 -1.58174004e+00  1.42460672e+00  9.19438742e+00\n",
            "  1.40711708e+01  5.42147180e+00 -5.12356514e+00 -3.64838694e+00\n",
            "  1.34746664e+00  1.70632290e+00 -2.85929196e+00  5.98298469e+00\n",
            " -1.99435720e+00 -2.52776762e+00  4.38936118e+00  3.62713376e+00\n",
            " -5.64311761e+00  5.93668932e+00  1.65266302e+00  8.75945725e+00\n",
            "  6.18738818e+00 -1.31557596e+00 -3.28338324e+00  1.43722589e-01\n",
            "  6.98204133e+00  5.82479410e+00 -4.13314249e+00  3.22149856e+00\n",
            " -2.23981642e-01  6.34532416e+00  8.99993725e+00  7.06513994e-01\n",
            "  3.40077735e+00 -2.04179240e+00 -3.44687075e+00 -6.95452331e-01\n",
            "  5.76531035e-01 -1.02080372e+00 -1.48497645e-03 -8.17135622e-01\n",
            " -1.35003619e+00 -1.78727084e-01  3.49337275e+00  7.14584726e-01\n",
            " -2.55299853e+00  1.07742946e+00  1.05485395e+01  1.36360326e+00\n",
            " -3.79564111e+00  4.75521814e-01 -3.71425496e+00  8.36851317e-01\n",
            "  3.91606295e+00 -7.18078996e-01 -8.58423046e+00 -6.48176264e+00\n",
            " -3.11281901e+00 -4.46401416e+00  4.55450880e+00  4.96720182e-01\n",
            "  4.75982846e+00  1.46911073e+00  1.99910348e+00  5.95533652e-01\n",
            "  3.66425051e+00 -2.82602371e+00 -2.82843407e+00  6.13142219e+00\n",
            "  9.89199228e+00 -2.23329192e+00  4.00595351e+00  1.30584986e+00\n",
            " -4.76028653e+00  2.74296593e+00 -8.21840124e+00  2.86239936e+00\n",
            "  5.00539733e+00  6.67984194e+00 -7.53849121e+00  4.96024240e+00\n",
            "  5.91333883e+00  1.30041076e+00  8.65491922e+00  9.56521173e+00\n",
            " -3.59426399e+00 -1.70849831e+00  4.75820732e+00  1.26338369e+01\n",
            "  4.60642560e+00 -9.53601165e+00 -6.26304701e+00  4.69957881e+00\n",
            " -1.03974767e+00 -1.57114091e+00  5.59758683e+00 -4.83279807e+00\n",
            "  1.89121872e-01  6.94543481e+00  8.45850031e+00  4.94670382e+00\n",
            "  1.99509683e-01 -4.85380349e+00 -2.21838576e+00  6.77462486e+00\n",
            " -4.68165235e+00  5.31714689e+00 -2.20908650e+00 -8.20177480e-01\n",
            " -4.41464255e-02 -3.14973146e+00  2.02349204e+00  3.00969547e+00\n",
            "  3.68040779e+00 -6.81421769e+00  2.73489828e+00  1.33724319e+00\n",
            "  2.27327768e+00 -2.50976663e+00 -4.13810991e+00  1.47984620e-02\n",
            " -4.63238742e-01 -2.88336600e+00  3.54741606e-01  9.11681877e+00\n",
            "  1.14245212e+00  3.61071899e+00  5.66099142e+00  9.95350938e-01\n",
            "  7.04317572e+00  8.46928789e+00  3.79374178e+00 -2.14500720e+00\n",
            " -1.72804022e+00  9.78983114e-01  8.63971411e+00  4.08803941e+00] [ 1.56005041e+00  1.37573883e+00  1.52872321e-01  4.54306621e+00\n",
            "  2.34950846e+00  3.18929786e+00  3.83190020e-01 -1.21906529e+00\n",
            "  2.47320491e+00  6.03729286e+00  1.88297887e+00  1.88984464e+00\n",
            "  2.15707179e+00 -2.12730435e+00  2.88530746e+00  1.48836598e+00\n",
            " -9.92763153e-01  1.90680336e+00  3.70728753e+00  4.66039285e+00\n",
            "  2.64730048e+00  4.23702690e+00  3.80146302e-01  2.88581005e+00\n",
            "  4.74136055e+00  2.30858074e+00  4.65270451e+00  1.99100943e+00\n",
            " -1.53998965e-01  1.53738283e+00  3.95081205e+00  2.69325437e+00\n",
            " -6.48478426e-01  5.00478163e+00  1.14907745e+00  4.04433062e+00\n",
            "  4.36434516e+00 -2.29572464e+00  2.15511999e+00  4.72289849e+00\n",
            "  2.13893108e-02  4.98934901e+00  2.66693991e+00  2.09787669e-02\n",
            "  9.22037512e-01  3.73778572e+00  2.35573477e+00  9.31387690e-01\n",
            "  1.00412119e+00  6.81474823e+00  1.44527498e+00  1.47193074e+00\n",
            " -2.31212832e-01 -2.43119438e+00 -3.48576827e-01 -5.46877391e-01\n",
            " -1.35102937e+00  1.65667960e+00  2.36803382e+00 -1.20433661e+00\n",
            "  3.52779230e+00 -9.52902198e-02  1.67676274e+00  4.53303821e+00\n",
            " -1.35896503e+00  7.69370382e+00  4.02316436e+00  1.41329536e+00\n",
            " -8.93517140e-01  3.36860222e+00  2.30890082e+00  7.83810587e-01\n",
            "  2.49508779e+00 -1.33999514e+00  4.58069716e+00  5.82690171e-01\n",
            "  3.93730371e+00  5.63313369e-01  4.57946361e+00 -2.21218349e+00\n",
            " -1.42682244e+00  2.32589869e+00  1.84072011e+00  1.82026389e+00\n",
            "  5.24367405e+00  5.60628697e+00 -1.87643800e+00  4.75975822e+00\n",
            "  1.34843215e+00  5.10596838e+00 -9.02260371e-02  1.78269023e+00\n",
            "  1.41287404e+00  2.71090736e+00  4.03291649e+00  1.44209110e+00\n",
            "  1.87439334e+00  2.29705153e+00  4.94493603e+00  4.75838431e+00\n",
            "  3.64374581e+00  4.33833011e+00  1.70862625e+00  2.45434826e+00\n",
            "  3.48131845e+00  1.05060027e+00  2.76116031e+00  1.58815278e+00\n",
            "  3.26139734e+00  3.90379988e+00  2.79440754e+00  1.83737972e+00\n",
            "  2.26588149e+00 -1.64326901e-01  4.95667862e+00  4.22322349e+00\n",
            "  2.02628997e+00  4.02627465e+00  2.01135353e+00  5.94131527e+00\n",
            "  5.40900888e+00  4.06011045e+00 -1.67700880e+00  6.22265976e+00\n",
            "  6.39613285e+00  6.17513442e+00  4.80726212e+00  4.40899004e+00\n",
            "  2.59563967e+00 -1.94087095e+00  3.30502745e+00  1.62026098e+00\n",
            " -5.61502835e-01  2.28310388e+00  2.79691248e+00  1.34300972e+00\n",
            "  7.26316620e-02  1.47995189e+00  1.77749631e+00  1.29394790e+00\n",
            "  4.03974119e-01  1.82120940e+00  3.22014052e+00  2.26571542e+00\n",
            "  4.32785122e+00  4.15751604e-01  3.99556194e+00  5.18616832e+00\n",
            "  3.07388509e+00  3.76963554e+00  1.66737344e+00  1.64560194e+00\n",
            "  2.07664315e+00  5.51479424e+00  7.39159572e-02  1.65822584e+00\n",
            " -3.51779588e+00  1.23337738e+00  1.59478943e+00  2.70835775e+00\n",
            "  2.96499500e+00  3.50124409e+00  4.73811723e+00  1.64432054e+00\n",
            "  4.94995939e+00  1.85788027e+00  5.40871594e-01 -1.06999061e+00\n",
            "  3.63961204e+00 -2.76547870e+00  4.11962300e+00  2.39149360e+00\n",
            " -1.69926445e+00 -7.05545831e-01  3.66862103e-01 -2.00558579e+00\n",
            "  2.60788931e+00 -4.60523230e-01  1.36440706e+00  2.39100985e-01\n",
            "  2.74396342e+00  1.50959479e+00 -9.20724568e-01  8.33246853e-01\n",
            "  1.42730081e+00  1.64402889e+00 -3.30293015e-01  2.45904738e+00\n",
            " -8.47112238e-01  1.99550317e+00  2.48107992e+00  4.17611551e+00\n",
            "  3.07850962e-01  1.75114894e-01  5.14838390e+00  3.39361732e-01\n",
            "  5.02679176e-01  4.06562155e+00  9.14804048e-01  2.26281720e+00\n",
            "  3.58995996e+00  4.25033435e+00  6.43099973e+00  3.93621705e+00\n",
            "  9.22006348e-03  3.51717847e+00  2.55695814e-01 -2.65039195e+00\n",
            "  2.99522313e+00  6.77570166e-01  5.90897824e+00  5.13716683e+00\n",
            "  1.39227405e+00  1.69470864e+00  1.51092187e+00  3.54972787e-01\n",
            "  1.30256900e+00  3.38905994e+00  6.30231725e+00 -7.81084977e-01\n",
            "  2.41051589e+00  3.99449043e+00 -2.45569776e+00 -1.21023376e+00\n",
            "  2.33786677e+00  1.30077122e+00  1.89506168e+00  1.93717190e+00\n",
            " -1.73785894e-01  5.27551182e+00  4.83581792e+00  4.00772284e+00\n",
            "  1.84234380e+00  2.31690621e+00  5.01597085e+00  6.13652237e-01\n",
            "  1.39455581e+00  5.53496117e+00  6.18832595e-01  5.50428152e+00\n",
            "  6.68806866e+00  9.01709097e-01  3.65461544e+00  2.29818631e+00\n",
            "  8.70551156e-01  2.05817200e+00  3.00173578e+00  1.55378203e+00\n",
            "  3.93599176e+00  1.73154375e+00  4.07342025e+00  2.17830951e+00\n",
            " -4.04644869e-01  1.77739879e+00  1.24841253e+00  4.48700185e+00\n",
            "  2.66085094e+00  2.10845640e+00  4.62578557e-01  3.62351363e-01\n",
            "  1.95673104e+00  4.37821821e+00  4.10252634e+00 -6.62650753e-01\n",
            "  2.28701239e+00  3.48286196e+00  6.41692588e+00  6.04190469e+00\n",
            "  4.24089778e+00  1.81551247e+00  1.41005443e+00  2.52579998e+00\n",
            "  7.42072648e-01  1.54723212e+00  3.97154705e+00 -7.91235178e-01\n",
            "  3.91841304e-03  1.93871058e+00  2.49904752e+00  1.05301139e+00\n",
            "  1.01124931e+00  1.53938860e+00  2.01322814e+00 -2.98005621e+00\n",
            "  8.27546188e-01  2.25153480e+00  1.79701145e-01  5.68981531e+00\n",
            "  3.53253247e+00  2.74127554e+00  4.02031899e+00  5.54579539e+00\n",
            "  6.33646024e-01  5.71213548e+00  3.31270498e+00  2.45353891e+00\n",
            "  3.86616994e+00  8.74869423e-01  1.65807478e+00  2.49928124e+00\n",
            "  2.67621495e+00  4.28519894e-01  2.96814085e+00  1.70249054e+00\n",
            " -7.79986376e-01 -4.75074780e-01  5.11598476e+00  2.05897145e+00\n",
            "  2.93407753e+00  3.48748849e+00  1.31760192e+00  4.14284539e+00\n",
            "  5.32557428e+00 -8.65527173e-01  3.69533604e+00  1.99543986e+00\n",
            "  5.34930258e+00  7.39513307e-01  6.48368290e+00  6.69686520e-01\n",
            " -3.00858203e+00  1.26793467e+00  3.59147765e-01  4.09919713e+00\n",
            "  5.04837752e+00  4.95766088e+00  3.73837281e+00  1.15372244e+00\n",
            " -1.67824283e+00  4.06795264e+00  9.84598094e-01  2.35670029e+00\n",
            "  3.30564860e+00  3.17076319e+00  4.04991576e+00  2.95845511e+00\n",
            "  1.87399489e+00 -7.74342161e-01  1.27618719e+00  4.47856302e+00\n",
            "  2.37257616e+00  5.56017583e+00  3.06500039e+00  3.23674056e+00\n",
            " -1.15831719e+00  1.15794801e+00  3.46281546e-01  2.38922732e+00\n",
            "  7.19667869e-01  3.88282265e+00  3.12630310e+00  3.75038565e+00\n",
            "  3.57791444e+00  1.48100987e+00  2.62800650e+00  1.91278711e+00\n",
            "  2.09371224e+00  1.34530088e+00  2.88234250e+00  4.00213938e+00\n",
            "  9.30106625e-01  1.23397396e+00 -2.25678747e-01  1.19358174e-01\n",
            "  7.66691724e-01  5.21557012e+00  5.80626741e-01  9.03726184e-01\n",
            "  1.03416230e+00  3.94515270e+00  1.47451445e-01  5.88110218e-01\n",
            " -4.83922176e-01  2.54630632e-01  4.38840280e+00  2.53825047e+00\n",
            "  3.12136261e-01  1.44161562e+00  4.29617406e+00  2.04902302e+00\n",
            "  6.80850395e-01  4.70122154e+00  4.21187756e+00  2.40711357e+00\n",
            "  2.04285293e+00  7.01078317e-01  3.00728598e+00  2.84646206e+00\n",
            " -3.32286468e-01 -6.58520554e-01  1.41937406e+00  2.69277043e+00\n",
            " -6.23067475e-01 -3.04748146e+00 -4.91112586e-01  3.69336325e+00\n",
            " -4.08597310e+00 -7.30877263e-01  1.74225983e+00  3.43815025e+00]\n"
          ],
          "name": "stdout"
        }
      ]
    },
    {
      "cell_type": "markdown",
      "metadata": {
        "id": "OHFxZhG0U4Ub",
        "colab_type": "text"
      },
      "source": [
        "Notar que son dos \"tiras\" de números, bastante largas y que a simple vista no nos dicen mucho. Mejor, podemos graficar su histograma. Veremos bien qué es un histograma en la próxima bitácora. Por ahora, basta saber que es una forma de visualizar cómo está distribuida una tira de números. Lo que hace es tomar un número determinado de intervalos (`bins = 20`) y contar cuántas muestras caen en cada intervalo."
      ]
    },
    {
      "cell_type": "code",
      "metadata": {
        "id": "4nu_9GbwU4Uf",
        "colab_type": "code",
        "colab": {}
      },
      "source": [
        "plt.hist(muestras_1, bins = 20, alpha = 0.5, label = 'Histrograma Muestra 1')\n",
        "plt.hist(muestras_2, bins = 20, alpha = 0.5, label = 'Histrograma Muestra 2')\n",
        "plt.legend()\n",
        "plt.grid()\n",
        "plt.show()"
      ],
      "execution_count": null,
      "outputs": []
    },
    {
      "cell_type": "markdown",
      "metadata": {
        "id": "_Ez12LcZU4Uu",
        "colab_type": "text"
      },
      "source": [
        "**Ejercicio:** Volver a \"generar\" las muestas y hacer sus histogramas. ¿Cambió?¿Por qué? Googlear que es una *semilla* (`seed`) en NumPy e implementar. También, cambiar la cantidad de muestras, modificando el argumento `size`. \n",
        "\n",
        "### 1.3 Relación entre Probabilidad y Estadística\n",
        "\n",
        "**Promedio y desviación estándar en una distribución Normal**\n",
        "\n",
        "En una distribución normal, el promedio de las muestras obtenidas *tiende* al valor medio $\\mu$ de la distribución, y la desviación estándar *tiende* a la desviacíon estándar $\\sigma$ de la distribución. Notar, entonces, que existen valores calculados (promedio, desviación estándar) y valores teóricos ($\\mu$ y $\\sigma$). Confundirlos entre sí es un error común.\n",
        "\n",
        "Veamos un ejemplo. Nuevamente, obtenemos muestras de una distribución normal:"
      ]
    },
    {
      "cell_type": "code",
      "metadata": {
        "id": "55UHxgsWU4Uy",
        "colab_type": "code",
        "colab": {}
      },
      "source": [
        "mu = 8.5\n",
        "sigma = 3.0\n",
        "muestras = np.random.normal(loc = mu, scale = sigma, size = 100)"
      ],
      "execution_count": null,
      "outputs": []
    },
    {
      "cell_type": "markdown",
      "metadata": {
        "id": "IrLpnkqqU4U9",
        "colab_type": "text"
      },
      "source": [
        "Y calculamos su promedio y desviación estándar, y comparamos con $\\mu$ y $\\sigma$."
      ]
    },
    {
      "cell_type": "code",
      "metadata": {
        "id": "k1JKKz5eU4VC",
        "colab_type": "code",
        "colab": {}
      },
      "source": [
        "print('Valor medio teorico:', mu, '. Valor medio calculado:', muestras.mean())\n",
        "print('Desviacion estandar teorica:', sigma, '. Desviacion estandar calculada:', muestras.std())"
      ],
      "execution_count": null,
      "outputs": []
    },
    {
      "cell_type": "markdown",
      "metadata": {
        "id": "YqQs6D_YU4VQ",
        "colab_type": "text"
      },
      "source": [
        "Comparemos el histograma de las muestras y la distribución teórica, que graficaremos haciendo uso de la librería `SciPy`:"
      ]
    },
    {
      "cell_type": "code",
      "metadata": {
        "id": "bf31AbLMU4VU",
        "colab_type": "code",
        "colab": {}
      },
      "source": [
        "from scipy.stats import norm\n",
        "\n",
        "plt.hist(muestras, bins=20, density=True, alpha=0.6, color='g')\n",
        "\n",
        "xmin, xmax = plt.xlim()\n",
        "x = np.linspace(xmin, xmax, 100)\n",
        "p = norm.pdf(x, mu, sigma)\n",
        "plt.plot(x, p, 'k', linewidth=2, label = 'Distribución Teórica')\n",
        "\n",
        "title = \"Muestras obtenidas de una distribución normal con mu = %.2f,  sigma = %.2f\" % (mu, sigma)\n",
        "\n",
        "plt.title(title)\n",
        "plt.legend()\n",
        "plt.show()"
      ],
      "execution_count": null,
      "outputs": []
    },
    {
      "cell_type": "markdown",
      "metadata": {
        "id": "RTOjCCEQU4Vi",
        "colab_type": "text"
      },
      "source": [
        "**Nota:** si estás atento/a a la escala en el eje *y*, notarás que es distinta a la escala de los histogramas anteriores. Esto se debe a que, en un histograma, además de graficar la cantidad de muestras que entran en cada intervalo, podemos también graficar la **proporción** de muestras que entran en cada intervalo.\n",
        "\n",
        "**Para pensar y probar:** \n",
        "1. ¿Por qué no coinciden $\\mu$ y $\\sigma$ con los valores calculados?¿Qué podemos hacer para que se parezcan cada vez más?¿Y qué ocurre en ese caso con el histograma y la distribución teórica?\n",
        "2. Con respecto al ejercicio que acabamos de hacer, ¿cuáles son los *parámetros* asociados al mundo de las probabilidades y cuáles son los *valores estadísticos* asociados al mundo de la estadística?\n",
        "\n",
        "\n",
        "### Ejercitación\n",
        " \n",
        "Los siguientes ejercicios pueden parecer muy difíciles, pero te aseguramos que no lo son tanto. ¡Lo importante es que los intentes!\n",
        "\n",
        "**Ejercicio 1 - Challenge:** Muchos juegos de mesa requieren tirar dados y sumar sus resultados. Por ejemplo, el [Catán](https://es.wikipedia.org/wiki/Los_Colonos_de_Cat%C3%A1n). Es evidente que, mientras en un dado la probabilidad de que salga cada cara es la misma, en esta variable aleatoria todos los resultados no son igual de probables (¿Cuáles son los posibles resultados?). Entonces, para mejorar tu estrategia en estos juegos, es útil saber cuál es la probabilidad asociada a cada resultado. Para ello, debes calcular su distribución de probabilidad. Entonces, \n",
        "\n",
        "Obtener la distribución de la variable aleatoria *suma del resultado de tirar dos dados*. Para ello puedes intentar alguna o ambas de las siguientes opciones:\n",
        "1. **Obtener la distribución teórica:** para ello, basta contar los casos *a mano* con lápiz y papel. Por ejemplo:\n",
        "    1. Uno (1) es un resultado imposible\n",
        "    2. Dos (2) solamente puede ser obtenida con ambos dados en 1, 1 + 1\n",
        "    3. Tres (3) tiene dos opciones, 2 + 1 y 1 + 2\n",
        "    4. Cuatro (4) tiene tres opciones: 3 + 1, 2 + 2, 1 + 3\n",
        "    \n",
        "    y así para el resto de los posibles resultados. Completa la lista hasta el 12 y cuenta cuántas combinaciones existen para cada resultado. ¿Cuántos combinaciones debe haber en total, teniendo en cuenta que cada dado tiene seis caras? Al final, debes llevarlos a porcentaje. Por ejemplo, si en total son 100 posibles combinaciones, y el 12 tiene 10 posibles combinaciones, su probabilidad es 10/100 = 0.1\n",
        "    \n",
        "2. **Simular y obtener una distribución aproximada:** otra opción es simular esta situación. Viste en el notebook de la bitácora anterior cómo simular un dado. Ahora simula dos dados y obtiene la suma de sus resultados.\n",
        "\n",
        "¿Te animas a comparar ambos métodos?"
      ]
    },
    {
      "cell_type": "code",
      "metadata": {
        "id": "327V3n7oU4Vm",
        "colab_type": "code",
        "colab": {}
      },
      "source": [
        "# COMPLETAR: UNA LINEA DE CODIGO \n",
        "# COMPLETAR: OTRA LINEA DE CODIGO \n",
        "\n",
        "suma = # COMPLETAR\n",
        "\n",
        "plt.hist(suma, bins = np.arange(1.5,13.5,1), density=True, rwidth = 0.8,)\n",
        "plt.show()"
      ],
      "execution_count": null,
      "outputs": []
    },
    {
      "cell_type": "markdown",
      "metadata": {
        "id": "EkNiPekCU4V0",
        "colab_type": "text"
      },
      "source": [
        "**Ejercicio 2:** Obtiene, simulando, la distribución de la variable aleatoria *máximo valor obtenido al tirar dos dados.* Por ejemplo, si obtenemos 2 y 5, el resultado es 5. Nuevamente, si lo deseas, también puedes contar casos y obtener la distribución teórica."
      ]
    },
    {
      "cell_type": "code",
      "metadata": {
        "id": "tzyvWre3U4V4",
        "colab_type": "code",
        "colab": {}
      },
      "source": [
        "# COMPLETAR: UNA LINEA DE CODIGO \n",
        "# COMPLETAR: OTRA LINEA DE CODIGO \n",
        "\n",
        "'''Combinamos las muestras obtenidas en un arreglo de dos filas, donde\n",
        "cada columna corresponde a una tirada'''\n",
        "muestras = np.array([COMPLETAR,COMPLETAR])\n",
        "print(muestras.shape)\n",
        "\n",
        "\n",
        "'''Obtenemos el máximo de cada tirada. Recordar obtener el máximo\n",
        "en el eje (axis) correspondiente'''\n",
        "maximos = np.max(COMPLETAR, axis = COMPLETAR)\n",
        "\n",
        "plt.hist(COMPLETAR, bins = np.arange(0.5,7.5,1), density=True, rwidth = 0.8)\n",
        "plt.show()"
      ],
      "execution_count": null,
      "outputs": []
    },
    {
      "cell_type": "markdown",
      "metadata": {
        "id": "Iu_y4bliU4WK",
        "colab_type": "text"
      },
      "source": [
        "## 2. Correlación\n",
        "\n",
        "El objetivo de esta sección es que te familiarices con los conceptos de **Covarianza** y **Correlación**. Si bien las fórmulas parecen difíciles, esperemos que veas que nada es tan grave como parece. También que prestes atención a cómo a veces es útil simular datos para aprender o acercarse a algunas técnicas.\n",
        "\n",
        "Tenemos dos variables aleatorias $X$ e $Y$, de las cuales tenemos $n$ muestras de cada una, $x_1,x_2,..., x_n$ e $y_1,y_2,..., y_n$. Sus valores medios son $\\bar{x}$ e $\\bar{y}$, respectivamente. Definimos la Covarianza como\n",
        "\n",
        "$$Cov(X,Y) = \\sum_{i=1}^{n} \\frac{(x_i - \\bar{x})(y_i - \\bar{y})}{n}$$\n",
        "\n",
        "A veces verás que, en lugar de dividir por $n$, se divide por $n - 1$ ó $n - 2$, pero eso no es importante ahora. Según Wikipedia, \"la covarianza es un valor que indica el grado de variación conjunta de dos variables aleatorias respecto a sus medias. Es el dato básico para determinar si existe una dependencia entre ambas variables y además es el dato necesario para estimar otros parámetros básicos, como el coeficiente de correlación lineal o la recta de regresión.\". \n",
        "\n",
        "Si bien la fórmula puede parecer difícil, veamos qué nos dice de nuestros datos simulando algunos casos sencillos.\n",
        "\n",
        "Empezamos generandos muestras al azar de dos variables aleatorias no relacionadas entre sí. "
      ]
    },
    {
      "cell_type": "code",
      "metadata": {
        "id": "q66jDC_IU4WO",
        "colab_type": "code",
        "colab": {}
      },
      "source": [
        "import matplotlib.pyplot as plt\n",
        "import numpy as np"
      ],
      "execution_count": null,
      "outputs": []
    },
    {
      "cell_type": "code",
      "metadata": {
        "id": "dWwL1LZ7U4Wa",
        "colab_type": "code",
        "colab": {}
      },
      "source": [
        "n = 1000\n",
        "sigma_1 = 2\n",
        "sigma_2 = 20\n",
        "x = np.random.normal(size = n, scale = sigma_1)\n",
        "y = np.random.normal(size = n, scale = sigma_2)\n",
        "\n",
        "# Graficamos\n",
        "plt.scatter(x, y)\n",
        "plt.grid()\n",
        "plt.xlim([-60,60])\n",
        "plt.ylim([-60,60])\n",
        "plt.show()"
      ],
      "execution_count": null,
      "outputs": []
    },
    {
      "cell_type": "markdown",
      "metadata": {
        "id": "w44BW3CCU4Wl",
        "colab_type": "text"
      },
      "source": [
        "¿Hay alguna relación entre ellos? Por relación nos referimos a \"variación conjunta\". Y por \"variación conjunta\" podemos imaginarnos que si una de las variables aumenta, la otra también lo hace. Y si una variable disminuye su valor, la otra también lo hace. La covarianza intenta cuantificar esa relación."
      ]
    },
    {
      "cell_type": "code",
      "metadata": {
        "id": "3wX-H3y-U4Wo",
        "colab_type": "code",
        "colab": {}
      },
      "source": [
        "cov = np.sum((x - x.mean())*(y - y.mean()))/x.size\n",
        "print(cov)"
      ],
      "execution_count": null,
      "outputs": []
    },
    {
      "cell_type": "markdown",
      "metadata": {
        "id": "zzbRb7kmU4W0",
        "colab_type": "text"
      },
      "source": [
        "La covarianza, sin embargo, tiene un pequeño problema: depende de la escala de nuestros datos. Entonces, para deshacernos de la escala, se puede definir la Correlación, que no es otra cosa que la covarianza dividida la desviación estándar de cada variable aletaria.\n",
        "\n",
        "$$Corr(X,Y) = \\frac{Cov(X,Y)}{\\sigma_X \\sigma_Y}$$"
      ]
    },
    {
      "cell_type": "code",
      "metadata": {
        "id": "wW2-EG20U4W2",
        "colab_type": "code",
        "colab": {}
      },
      "source": [
        "corr = cov/(x.std()*y.std())\n",
        "print(corr)"
      ],
      "execution_count": null,
      "outputs": []
    },
    {
      "cell_type": "markdown",
      "metadata": {
        "id": "UHClidVeU4XC",
        "colab_type": "text"
      },
      "source": [
        "Y con eso nos deshacemos de la escala. Un valor cercano a cero nos indica que no existe una relación (¿lineal?) entre las variables.\n",
        "\n",
        "**Probar** con distintas escalas (modificando `sigma_1` y `sigma_2`) y verán que `cov` tomará valores en un rango muy amplio, mientras que `corr` se mantendrá cercana a cero.\n",
        "\n",
        "### 2.1 Relación lineal\n",
        "\n",
        "Veamos otro ejemplo: sabemos que existe una relación lineal entre $X$ e $Y$, es decir, podemos aproximar $Y =aX+b$, donde $a$ y $b$ son la pendiente y la ordenada al origen."
      ]
    },
    {
      "cell_type": "code",
      "metadata": {
        "id": "JV0TUTcCU4XE",
        "colab_type": "code",
        "colab": {}
      },
      "source": [
        "n = 100\n",
        "x = np.linspace(-1,1,n) + 0.25*np.random.normal(size = n)\n",
        "y = 4.5*x + 0.25*np.random.normal(size = n)\n",
        "\n",
        "# Graficamos\n",
        "plt.scatter(x, y)\n",
        "plt.grid()\n",
        "plt.show()"
      ],
      "execution_count": null,
      "outputs": []
    },
    {
      "cell_type": "markdown",
      "metadata": {
        "id": "SpN-9JFmU4XM",
        "colab_type": "text"
      },
      "source": [
        "La covarianza nos da"
      ]
    },
    {
      "cell_type": "code",
      "metadata": {
        "id": "LEzzOeFtU4XR",
        "colab_type": "code",
        "colab": {}
      },
      "source": [
        "cov = np.sum((x - x.mean())*(y - y.mean()))/x.size\n",
        "print(cov)"
      ],
      "execution_count": null,
      "outputs": []
    },
    {
      "cell_type": "code",
      "metadata": {
        "id": "ofbVUp7xU4Xa",
        "colab_type": "code",
        "colab": {}
      },
      "source": [
        "corr = cov/(x.std()*y.std())\n",
        "corr"
      ],
      "execution_count": null,
      "outputs": []
    },
    {
      "cell_type": "markdown",
      "metadata": {
        "id": "3O19qjolU4Xi",
        "colab_type": "text"
      },
      "source": [
        "Ahora, en cambio, el valor es cercano a uno, indicando una relación lineal creciente entre ambas variables.\n",
        "\n",
        "**Probar** cambiando la pendiente de la función lineal (el número que multiplica a `x` en `y = ...`) y mirar qué pasa. ¿Qué pasa si la pendiente es negativa?"
      ]
    },
    {
      "cell_type": "markdown",
      "metadata": {
        "id": "vjgjstKaU4Xm",
        "colab_type": "text"
      },
      "source": [
        "#### Conclusiones\n",
        "\n",
        "1. La covarianza es una medida de la variación conjunta de dos variables. Pero tiene un problema: depende de la escala.\n",
        "2. Para \"deshacernos\" de la escala, definimos la correlación, que es simplemente la covarianza dividida por el producto de la desviación estándar de cada variable. **Para pensar:** ¿por qué la desviación estándar está asociada a la escala de una variable?\n",
        "3. La correlación es un valor entre -1 y 1. La correlación toma un valor cercano a uno cuando hay una relación lineal creciente entre las variables, cero cuando no hay relación y -1 cuando hay una relación lineal decreciente.\n",
        "4. Esta correlación tiene un nombre particular: **Correlación de Pearson**."
      ]
    },
    {
      "cell_type": "markdown",
      "metadata": {
        "id": "piVs0Av1U4Xp",
        "colab_type": "text"
      },
      "source": [
        "### 2.2 Covarianza y Correlación con NumPy\n",
        "\n",
        "**Esta sección es opcional**\n",
        "\n",
        "NumPy ya tiene incorporadas funciones que calculan la covarianza y la correlación entre dos variables. La única diferencia es que, en lugar de devolver un único valor, devuelve cuatro valores, que corresponden a la covarianza/correlación entre $X$ con $X$, $X$ con $Y$, $Y$ con $X$, e $Y$ con $Y$. ¿Por qué, en la correlación, algunos valores son exactamente uno (1.)?"
      ]
    },
    {
      "cell_type": "code",
      "metadata": {
        "id": "frlmIIkKU4Xr",
        "colab_type": "code",
        "colab": {}
      },
      "source": [
        "np.cov([x,y])"
      ],
      "execution_count": null,
      "outputs": []
    },
    {
      "cell_type": "code",
      "metadata": {
        "id": "AWJOKo6sU4Xz",
        "colab_type": "code",
        "colab": {}
      },
      "source": [
        "np.corrcoef([x,y])"
      ],
      "execution_count": null,
      "outputs": []
    },
    {
      "cell_type": "markdown",
      "metadata": {
        "id": "MyrooOHbU4X8",
        "colab_type": "text"
      },
      "source": [
        "### 2.3 Relación No-Lineal entre variables\n",
        "\n",
        "**Esta sección es opcional, pero recomendamos leerla**\n",
        "\n",
        "¿Qué ocurre cuando la relación no es lineal entre las variables? Veámoslo con un ejemplo.\n"
      ]
    },
    {
      "cell_type": "code",
      "metadata": {
        "id": "iW2lL_d8U4X-",
        "colab_type": "code",
        "colab": {}
      },
      "source": [
        "n = 1000\n",
        "x = np.linspace(-5,5,n) + 0.25*np.random.normal(size = n)\n",
        "y = x**2 + 0.25*np.random.normal(size = n)\n",
        "\n",
        "# Graficamos\n",
        "plt.scatter(x, y)\n",
        "plt.grid()\n",
        "plt.show()"
      ],
      "execution_count": null,
      "outputs": []
    },
    {
      "cell_type": "markdown",
      "metadata": {
        "id": "x0f8gozSU4YF",
        "colab_type": "text"
      },
      "source": [
        "La covarianza nos da"
      ]
    },
    {
      "cell_type": "code",
      "metadata": {
        "id": "qyOWwrbQU4YH",
        "colab_type": "code",
        "colab": {}
      },
      "source": [
        "cov = np.sum((x - x.mean())*(y - y.mean()))/x.size\n",
        "print(cov)"
      ],
      "execution_count": null,
      "outputs": []
    },
    {
      "cell_type": "code",
      "metadata": {
        "id": "_90NldnwU4YP",
        "colab_type": "code",
        "colab": {}
      },
      "source": [
        "corr = cov/(x.std()*y.std())\n",
        "corr"
      ],
      "execution_count": null,
      "outputs": []
    },
    {
      "cell_type": "markdown",
      "metadata": {
        "id": "9XiFp1CZU4YX",
        "colab_type": "text"
      },
      "source": [
        "Notar que la correlación de un valor alrededor de cero, indicando que no hay una correlación entre ambas variables. Pero esto NO indica que no hay una *relación* entre esas variables, solamente nos dice que no es lineal. Por eso es muy importante graficar.\n",
        "\n",
        "**Probar** cambiando la relación matemática entre `x` e `y` y mirar qué pasa.\n",
        "\n",
        "Para tratar con relaciones no lineal entre variables, existen otros tipos de correlaciones. La que vimos se llama **Correlación de Pearson**, que es la más famosa. Pero también existen otras, Spearman y Kendall, que son muy útiles cuando existe una relación no lineal entre variables.\n",
        "\n",
        "### 3. Correlación en Pandas\n",
        "\n",
        "Probablemente ya estés un poco mareado/a con tantos términos, conceptos y líneas de código. Si no entendiste del todo lo anterior, no te preocupes. Vamos a ver cómo lo aplicamos en un conjunto de datos. ¡Verás que es muy sencillo!\n",
        "\n",
        "Para eso, volvemos a usar el Iris Dataset del encuentro anterior."
      ]
    },
    {
      "cell_type": "code",
      "metadata": {
        "id": "jwu9X-67U4Ya",
        "colab_type": "code",
        "colab": {}
      },
      "source": [
        "import pandas as pd"
      ],
      "execution_count": null,
      "outputs": []
    },
    {
      "cell_type": "code",
      "metadata": {
        "id": "QSWYv0_WU4Yk",
        "colab_type": "code",
        "colab": {}
      },
      "source": [
        "data = pd.read_csv('DS_Bitácora_04_Iris.csv')\n",
        "data.drop(columns = 'Id', inplace = True)\n",
        "data.head()"
      ],
      "execution_count": null,
      "outputs": []
    },
    {
      "cell_type": "markdown",
      "metadata": {
        "id": "_hpR90jUU4Yr",
        "colab_type": "text"
      },
      "source": [
        "Para obtener las correlaciones entre las distintas variables, simplemente tenemos que hacer:"
      ]
    },
    {
      "cell_type": "code",
      "metadata": {
        "id": "j24K4utyU4Yw",
        "colab_type": "code",
        "colab": {}
      },
      "source": [
        "data.corr()"
      ],
      "execution_count": null,
      "outputs": []
    },
    {
      "cell_type": "markdown",
      "metadata": {
        "id": "1ePNNkIzU4Y3",
        "colab_type": "text"
      },
      "source": [
        "**Para responder**: ¿Cuáles variables están correlacionadas entre sí?¿Por qué los elementos de la diagonal son exactamente uno (1.0)?\n",
        "\n",
        "Dentro de dos encuentros veremos una forma más eficiente de visualizar esta información, ¡pero ya puedes aplicarla!"
      ]
    }
  ]
}