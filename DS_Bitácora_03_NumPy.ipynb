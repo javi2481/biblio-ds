{
  "nbformat": 4,
  "nbformat_minor": 0,
  "metadata": {
    "kernelspec": {
      "display_name": "Python 3",
      "language": "python",
      "name": "python3"
    },
    "language_info": {
      "codemirror_mode": {
        "name": "ipython",
        "version": 3
      },
      "file_extension": ".py",
      "mimetype": "text/x-python",
      "name": "python",
      "nbconvert_exporter": "python",
      "pygments_lexer": "ipython3",
      "version": "3.7.6"
    },
    "colab": {
      "name": "DS_Bitácora_03_NumPy.ipynb",
      "provenance": [],
      "collapsed_sections": [
        "1AJNWoqhPBQJ",
        "qecxWClXPBQM",
        "IeZnpQLV6xAv",
        "3t8rRW2j6xBU",
        "8OLptg2q6xDP",
        "GrbJZzEA6xDZ",
        "AHudbTb_6xD7",
        "WtKLIys36xEY",
        "vL5QD71a6xEo"
      ],
      "include_colab_link": true
    }
  },
  "cells": [
    {
      "cell_type": "markdown",
      "metadata": {
        "id": "view-in-github",
        "colab_type": "text"
      },
      "source": [
        "<a href=\"https://colab.research.google.com/github/javi2481/biblio-ds/blob/master/DS_Bit%C3%A1cora_03_NumPy.ipynb\" target=\"_parent\"><img src=\"https://colab.research.google.com/assets/colab-badge.svg\" alt=\"Open In Colab\"/></a>"
      ]
    },
    {
      "cell_type": "markdown",
      "metadata": {
        "id": "Ev_oEXjx6w9Q",
        "colab_type": "text"
      },
      "source": [
        "# Programación y NumPy\n",
        "\n",
        "En la primera parte de este notebook seguiremos explorando algunas cuestiones de programación. En la segunda parte, empezaremos a trabajar con NumPy, nuestra primera librería.\n",
        "\n",
        "## 1. Programación\n",
        "\n",
        "### 1.1 Operaciones Lógicas\n",
        "\n",
        "Comencemos viendo cómo implementar lo que vimos en la bitácora de operaciones lógicas. Te recomendamos tener la bitácora cerca así puedes consultarla.\n",
        "\n",
        "En primer lugar, la operación `not` es simplemente la negación del booleano."
      ]
    },
    {
      "cell_type": "code",
      "metadata": {
        "colab_type": "code",
        "id": "kv2eNRpePBOy",
        "colab": {}
      },
      "source": [
        "variable_1 = True\n",
        "print(not(variable_1))\n",
        "\n",
        "variable_2 = False\n",
        "print(not(variable_2))"
      ],
      "execution_count": null,
      "outputs": []
    },
    {
      "cell_type": "code",
      "metadata": {
        "colab_type": "code",
        "id": "LpCJFNp56w-F",
        "colab": {}
      },
      "source": [
        "La operación `and` nos devuelve `True` unicamente cuando ambas variables son verdaderas. Experimentar con la celda inferior y comprobar su tabla de verdad."
      ],
      "execution_count": null,
      "outputs": []
    },
    {
      "cell_type": "code",
      "metadata": {
        "colab_type": "code",
        "id": "mHPhaiiJPBOv",
        "colab": {}
      },
      "source": [
        "variable_1 = True\n",
        "variable_2 = False\n",
        "print(variable_1 and variable_2)"
      ],
      "execution_count": null,
      "outputs": []
    },
    {
      "cell_type": "markdown",
      "metadata": {
        "id": "tIzs0GsO6w-k",
        "colab_type": "text"
      },
      "source": [
        "**Ejercicio:** comprobar la tabla de verdad de la operación `or` jugando con la celda siguiente. Viene con trampa(s)."
      ]
    },
    {
      "cell_type": "code",
      "metadata": {
        "colab_type": "code",
        "id": "i9QxO0SgPBO3",
        "colab": {}
      },
      "source": [
        "A = False\n",
        "C = False\n",
        "A_or_B = variable_1 or variable_2\n",
        "print(A_or_B)"
      ],
      "execution_count": null,
      "outputs": []
    },
    {
      "cell_type": "markdown",
      "metadata": {
        "colab_type": "text",
        "id": "oa016g7sPBP2"
      },
      "source": [
        "### 1.2 Estructuras de control - Condicionales\n",
        "\n",
        "Los condicionales nos permiten ejecutar o no un bloque de codigo dependiendo de ciertas condiciones. En lenguaje coloquial, vendrían a ser del estilo de \"Si se cumple esta condición, hace A. Si no se cumple, hace B\", donde B puede ser, simplemente, no hacer nada. Veamos qué formas toman.\n",
        "\n",
        "### 1.2.1 If\n",
        "\n",
        "El condicional más simple es el `if`. Para mayor claridad escribiremos la condicion entre parentesis (), aunque esto no es necesario. Su estructura es \n",
        "\n",
        "``` python\n",
        "if condicion:\n",
        "    Si se cumple la condición, se ejecutan estas líneas de código\n",
        "```\n",
        "\n",
        "Veamos algunos ejemplos:"
      ]
    },
    {
      "cell_type": "code",
      "metadata": {
        "colab_type": "code",
        "id": "TYisVuiEPBP4",
        "colab": {}
      },
      "source": [
        "valor = 15\n",
        "if (valor > 10):\n",
        "    print('El valor es mayor que 10')"
      ],
      "execution_count": null,
      "outputs": []
    },
    {
      "cell_type": "markdown",
      "metadata": {
        "colab_type": "text",
        "id": "-hz-IXpJPBP6"
      },
      "source": [
        "Prestar atención a que la condición debe ser un booleano"
      ]
    },
    {
      "cell_type": "code",
      "metadata": {
        "colab_type": "code",
        "id": "BCXXXwRMPBP7",
        "colab": {}
      },
      "source": [
        "print(valor > 10)\n",
        "print(type(valor > 10))"
      ],
      "execution_count": null,
      "outputs": []
    },
    {
      "cell_type": "markdown",
      "metadata": {
        "id": "b8smKAgj6w_Y",
        "colab_type": "text"
      },
      "source": [
        "**Nota:** para comparar variables, tenemos las operaciones menor `<`, mayor `>`, igualdad `==`, menor o igual  `<=`, y mayor o igual `>=`."
      ]
    },
    {
      "cell_type": "code",
      "metadata": {
        "id": "ZxEo7yDf6w_b",
        "colab_type": "code",
        "colab": {}
      },
      "source": [
        "print(3 == 3)\n",
        "print(3 <= 3)\n",
        "print(3 >= 3)\n"
      ],
      "execution_count": null,
      "outputs": []
    },
    {
      "cell_type": "markdown",
      "metadata": {
        "colab_type": "text",
        "id": "zaIO1UwlPBP_"
      },
      "source": [
        "### 1.2.2 If, Else\n",
        "\n",
        "A la estrucutra con `if` se le puede agregar otro bloque de codigo que se ejecute si la condición exigida NO se cumple. Esto se logra mediante la expresión `else`.\n",
        "\n",
        "``` python\n",
        "if condicion:\n",
        "    Si se cumple la condición, se ejecutan estas líneas de código\n",
        "else:\n",
        "    Si NO se cumple la condición, se ejecutan estas líneas de código\n",
        "```"
      ]
    },
    {
      "cell_type": "code",
      "metadata": {
        "colab_type": "code",
        "id": "Hf8xuG6iPBP_",
        "colab": {}
      },
      "source": [
        "nombre = 'Pedro'\n",
        "\n",
        "if (nombre == 'Juan'):\n",
        "    print('Esta persona se llama Juan')\n",
        "else:\n",
        "    print('Esta persona NO se llama Juan')"
      ],
      "execution_count": null,
      "outputs": []
    },
    {
      "cell_type": "markdown",
      "metadata": {
        "id": "R5prOWCT6w_3",
        "colab_type": "text"
      },
      "source": [
        "Prestar atención, nuevamente, a que la condición - lo que está entre paréntesis - es un booleano."
      ]
    },
    {
      "cell_type": "code",
      "metadata": {
        "colab_type": "code",
        "id": "GVfCLIQyPBQB",
        "colab": {}
      },
      "source": [
        "'Juan'=='Pedro'"
      ],
      "execution_count": null,
      "outputs": []
    },
    {
      "cell_type": "markdown",
      "metadata": {
        "colab_type": "text",
        "id": "1AJNWoqhPBQJ"
      },
      "source": [
        "### 1.2.3 If, Elif, Else\n",
        "A esta estructura se le pueden sumar tantas condiciones encadenadas como uno desee, mediante la expresión `elif`. El orden en que se van chequeando las condiciones depende de su posición, priemero se chequea el `if`, luego el primer `elif`, luego el segundo, y así sucesivamente.\n",
        "\n",
        "``` python\n",
        "if condicion_1:\n",
        "    Si se cumple la condicion_1 , se ejecutan estas líneas de código\n",
        "elif condicion_2:\n",
        "    Si se cumple la condicion_2 , se ejecutan estas líneas de código\n",
        "elif condicion_3:\n",
        "    Si se cumple la condicion_3 , se ejecutan estas líneas de código\n",
        "else:\n",
        "    Si NO se cumple ninguna de las condiciones anteriores, se ejecutan líneas celdas de código\n",
        "```\n"
      ]
    },
    {
      "cell_type": "code",
      "metadata": {
        "colab_type": "code",
        "id": "psA9onaFPBQL",
        "colab": {}
      },
      "source": [
        "edad = 20\n",
        "\n",
        "if (edad < 18):\n",
        "    print('Esta persona tiene menos de 18 años')\n",
        "elif (edad > 18):\n",
        "    print('Esta persona tiene mas de 18 años')\n",
        "else:\n",
        "    print('Esta persona tiene justo 18 años')"
      ],
      "execution_count": null,
      "outputs": []
    },
    {
      "cell_type": "markdown",
      "metadata": {
        "colab_type": "text",
        "id": "ZHXdIEkSW6wa"
      },
      "source": [
        "**Ejercicio**: Escriba un bloque de código que, dado un número, imprima la frase \"El numero es par\" si el número es par o la frase \"El numero es impar\" si no lo es."
      ]
    },
    {
      "cell_type": "code",
      "metadata": {
        "colab_type": "code",
        "id": "7uWbEw9BYAL4",
        "colab": {}
      },
      "source": [
        "numero = 17\n",
        "# COMPLETAR"
      ],
      "execution_count": null,
      "outputs": []
    },
    {
      "cell_type": "markdown",
      "metadata": {
        "colab_type": "text",
        "id": "qecxWClXPBQM"
      },
      "source": [
        "### 1.3 Combinando estructuras de código\n",
        "\n",
        "Las estructuras de loops que vimos en la bitácora anterior y condicionales que aprendimos se pueden combinar para generar comportamientos más complejos. Supongamos que tenemos una lista de edades y nos queremos quedar con aquellas que sean mayores que 18 años. Podemos hacer lo siguiente:"
      ]
    },
    {
      "cell_type": "code",
      "metadata": {
        "colab_type": "code",
        "id": "69DHgsOjPBQN",
        "colab": {}
      },
      "source": [
        "lista_de_edades = [4,20,15,29,11,42,10,18]\n",
        "lista_mayores = []\n",
        "\n",
        "for edad in lista_de_edades:\n",
        "    if (edad >= 18):\n",
        "        # Agremos a la lista de mayores\n",
        "        lista_mayores.append(edad)\n",
        "\n",
        "print(lista_mayores)"
      ],
      "execution_count": null,
      "outputs": []
    },
    {
      "cell_type": "markdown",
      "metadata": {
        "id": "IeZnpQLV6xAv",
        "colab_type": "text"
      },
      "source": [
        "### 1.4 Operaciones lógicas y estructuras de control\n",
        "\n",
        "A veces, queremos ejecutar una línea de código si se cumple más de una condición. Esto se puede lograr fácilmente usando las operaciones lógicas que vimos. Supongamos que tenemos una lista de números, y queremos seleccionar aquellos que cumplan ciertas propiedades. Por ejemplo, que son mayores o iguales que 5 y menores que 20. Podríamos hacer lo siguiente:"
      ]
    },
    {
      "cell_type": "code",
      "metadata": {
        "id": "sC-PhM3o6xA0",
        "colab_type": "code",
        "colab": {}
      },
      "source": [
        "numeros = [0,3,1,4,6,17,3,89,5,6,4,13,25,4,3,23,1,15,2]\n",
        "seleccionados = []\n",
        "for numero in numeros:\n",
        "    if numero >= 5:\n",
        "        if numero < 20:\n",
        "            seleccionados.append(numero)\n",
        "print(seleccionados)"
      ],
      "execution_count": null,
      "outputs": []
    },
    {
      "cell_type": "markdown",
      "metadata": {
        "id": "Tc_42Pgi6xA8",
        "colab_type": "text"
      },
      "source": [
        "Notar que los números seleccionados cumplen los requisitos que pedimos. Pero también podríamos hacerlo así:"
      ]
    },
    {
      "cell_type": "code",
      "metadata": {
        "id": "GgeeSiSK6xBA",
        "colab_type": "code",
        "colab": {}
      },
      "source": [
        "numeros = [0,3,1,4,6,17,3,89,5,6,4,13,25,4,3,23,1,15,2]\n",
        "seleccionados = []\n",
        "for numero in numeros:\n",
        "    if numero >= 5 and numero < 20:\n",
        "        seleccionados.append(numero)\n",
        "print(seleccionados)"
      ],
      "execution_count": null,
      "outputs": []
    },
    {
      "cell_type": "markdown",
      "metadata": {
        "id": "bp86CHMb6xBI",
        "colab_type": "text"
      },
      "source": [
        "El resultado es el mismo. Si bien esta forma es más compacta, no necesariamente implica que sea mejor. Uno/a elije hacerlo de una u otra forma según lo que le parezca más claro; si ambas condiciones juntas son difíciles de leer, tal vez puedes usar la primera forma.\n",
        "\n",
        "**Ejercicio**: Modifica el ejemplo anterior para que seleccione aquellos números **mayores** que 5 **o** impares."
      ]
    },
    {
      "cell_type": "code",
      "metadata": {
        "id": "AVpW_iRp6xBL",
        "colab_type": "code",
        "colab": {}
      },
      "source": [
        "# COMPLETAR"
      ],
      "execution_count": null,
      "outputs": []
    },
    {
      "cell_type": "markdown",
      "metadata": {
        "id": "3t8rRW2j6xBU",
        "colab_type": "text"
      },
      "source": [
        "### Ejercitación\n",
        "\n",
        "**Ejercicio 1**: ¿Qué pasa si sumás, restás, multiplicás o dividís booleanos? Pruébalo e interpreta."
      ]
    },
    {
      "cell_type": "code",
      "metadata": {
        "id": "d1FkUOkT6xBW",
        "colab_type": "code",
        "colab": {}
      },
      "source": [
        "print(True + True)\n",
        "print(True + False)\n",
        "# COMPLETAR"
      ],
      "execution_count": null,
      "outputs": []
    },
    {
      "cell_type": "markdown",
      "metadata": {
        "id": "Rn69wJ-y6xBg",
        "colab_type": "text"
      },
      "source": [
        "**Ejercicio 2**: Hacer una estructur `if/else` que compare dos variables numéricas `A` y `B` y que decida cuál es mayor e imprima en pantalla \"A es mayor que B\" o \"B es mayor que A\" . "
      ]
    },
    {
      "cell_type": "code",
      "metadata": {
        "id": "NUxrQf9A6xBs",
        "colab_type": "code",
        "colab": {}
      },
      "source": [
        "A = 3\n",
        "B = 4\n",
        "# COMPLETAR"
      ],
      "execution_count": null,
      "outputs": []
    },
    {
      "cell_type": "markdown",
      "metadata": {
        "id": "LcNOZBVO6xBz",
        "colab_type": "text"
      },
      "source": [
        "**Ejercicio 3 - Challenge**: Dada la siguiente lista de numeros:"
      ]
    },
    {
      "cell_type": "code",
      "metadata": {
        "colab_type": "code",
        "id": "nixTh2uwPBQQ",
        "colab": {}
      },
      "source": [
        "numeros = [4,5,1,3,5,7,8,1,3,4,1,7,8,1,3,4,5,2,1,2,4,5]"
      ],
      "execution_count": null,
      "outputs": []
    },
    {
      "cell_type": "markdown",
      "metadata": {
        "colab_type": "text",
        "id": "XLWP4dKfPBQS"
      },
      "source": [
        "Escribir una rutina que calcule la suma de los números **pares menores que 5** en esta lista. **Pistas:** \n",
        "* Hay muchas formas de hacerlo, si piensas en más de una, mejor. Pero trata de tomar los ejemplos que vimos en este notebook.\n",
        "* El resultado es 20. \n",
        "* Recuerda que puedes inicializar una variable en cero, y luego ir modificándola en un loop. Hicimos algo así en el notebook de la bitácora anterior con una variable que llamamos `i` y en el ejercicio 5 del mismo notebook."
      ]
    },
    {
      "cell_type": "code",
      "metadata": {
        "id": "Rl2hqB-e6xB_",
        "colab_type": "code",
        "colab": {}
      },
      "source": [
        "# COMPLETAR"
      ],
      "execution_count": null,
      "outputs": []
    },
    {
      "cell_type": "markdown",
      "metadata": {
        "id": "EOZ7KmA46xCG",
        "colab_type": "text"
      },
      "source": [
        "**Ejercicio 4 - Challenge Opcional**: Dada la siguiente lista de numeros:"
      ]
    },
    {
      "cell_type": "code",
      "metadata": {
        "colab_type": "code",
        "id": "aaYZXXHi6xCI",
        "colab": {}
      },
      "source": [
        "numeros_en_texto = ['2', '3', '2', '3', '2', '2', '2', '2', '3', '2', '3', '1', '3', '1', '2', '2', '2', '2', '2', '2', '2', '2', '1', '2', '3', '2', '2', '2', '2', '1', '2', '3', '2', '2', '3', '2', '3', '3', '2', '2', '1', '3', '3', '2', '3', '2', '2', '1', '2', '1', '1', '2', '2', '3', '2', '2', '2', '3', '2', '2', '2', '1', '2', '2', '3', '2', '2', '2', '2', '1', '2', '2', '2', '2', '3', '1', '2', '3', '3', '2', '3', '2', '2', '3', '3', '1', '1', '3', '2', '1', '2', '2', '2', '1', '1', '2', '2', '2', '2', '2', '2', '2', '3', '3', '1', '3', '3', '3', '2', '2', '2', '2', '2', '2', '2', '3', '3', '2', '2', '3', '2', '2', '2', '2', '2', '3', '3', '2', '2', '1', '3', '2', '2', '2', '3', '2', '3', '1', '3', '3', '2', '3', '3', '2', '2', '2', '2', '2', '2', '1', '2', '2', '1', '2', '3', '2', '1', '3', '1', '2', '3', '3', '3', '2', '3', '1', '3', '2', '3', '1', '2', '2', '2', '3', '3', '2', '2', '2', '2', '2', '3', '1', '2', '3', '3', '2', '2', '3', '2', '2', '2', '3', '2', '2', '2', '2', '1', '2', '3', '1', '3', '2', '2', '3', '3', '3', '2', '2', '1', '1']\n",
        "print(numeros_en_texto)"
      ],
      "execution_count": null,
      "outputs": []
    },
    {
      "cell_type": "markdown",
      "metadata": {
        "colab_type": "text",
        "id": "7csAGf6h6xCQ"
      },
      "source": [
        "Calcule la suma de los unos (1) y los tres (3) en esta lista. Nuevamente, hay muchas formas de hacerlo. **Pistas:** \n",
        "* El resultado es 210.\n",
        "* Puede reciclar código de ejemplos anteriores y del ejercicio anterior.\n",
        "* Se pueden comparar strings, ver ejemplo más arriba.\n",
        "* También se pueden forzar tipos de datos. Por ejemplo, `int('4')` nos devuelve un 4, entero.\n",
        "* Se puede resolver sin usar todas las pistas"
      ]
    },
    {
      "cell_type": "code",
      "metadata": {
        "id": "vOghc-f86xCT",
        "colab_type": "code",
        "colab": {}
      },
      "source": [
        "# COMPLETAR"
      ],
      "execution_count": null,
      "outputs": []
    },
    {
      "cell_type": "markdown",
      "metadata": {
        "id": "TTDIO6cP6xCc",
        "colab_type": "text"
      },
      "source": [
        "## 2. Numpy\n",
        "\n",
        "Empezaremos a dar nuestros primeros pasos con NumPy. Es muy importante que googlees y consultes la documentación. Si no la instalaste, ahora es un buen momento.\n",
        "\n",
        "Cuando queremos usar una librería, primero debemos importarla. Más adelante veremos qué significa importar una librería, pero podemos entenderlo como que es un aviso a Python de que vamos a incorporar nuevas funcionalidades; en este caso, desde NumPy."
      ]
    },
    {
      "cell_type": "code",
      "metadata": {
        "id": "rPcaeHHt6xCe",
        "colab_type": "code",
        "colab": {}
      },
      "source": [
        "import numpy as np"
      ],
      "execution_count": null,
      "outputs": []
    },
    {
      "cell_type": "markdown",
      "metadata": {
        "id": "W6b95ub26xCn",
        "colab_type": "text"
      },
      "source": [
        "Ahora nuestro ambiente de trabajo sabe que si ponemos algo del estilo `np.` significa que esa funcionalidad la debe buscar en NumPy. **Importante:** Si la librería NO se instaló correctamente, te saltará un mensaje de error.\n",
        "\n",
        "El principal tipo de dato sobre el que trabaja NumPy son los arreglos o arrays. Los arreglos son parecidos a listas y, de hecho, se pueden crear a partir de ellas."
      ]
    },
    {
      "cell_type": "code",
      "metadata": {
        "id": "-NYi46pS6xCr",
        "colab_type": "code",
        "colab": {}
      },
      "source": [
        "lista = [0,1,2,3,4,5]\n",
        "arreglo = np.array(lista)\n",
        "print(lista)\n",
        "print(arreglo)"
      ],
      "execution_count": null,
      "outputs": []
    },
    {
      "cell_type": "markdown",
      "metadata": {
        "id": "3GTbMtsp6xCy",
        "colab_type": "text"
      },
      "source": [
        "Pero son más que una lista. Algunas cosas que no se podían hacer con las listas ahora sí se pueden con arreglos. Recordemos que sumarle un número a toda la lista no estaba permitido"
      ]
    },
    {
      "cell_type": "code",
      "metadata": {
        "id": "oBsq7xKM6xC0",
        "colab_type": "code",
        "colab": {}
      },
      "source": [
        "lista + 1"
      ],
      "execution_count": null,
      "outputs": []
    },
    {
      "cell_type": "markdown",
      "metadata": {
        "id": "XM4rla9L6xC7",
        "colab_type": "text"
      },
      "source": [
        "¡Pero ahora con los arreglos sí!"
      ]
    },
    {
      "cell_type": "code",
      "metadata": {
        "id": "QxQS9qSw6xC9",
        "colab_type": "code",
        "colab": {}
      },
      "source": [
        "arreglo + 1"
      ],
      "execution_count": null,
      "outputs": []
    },
    {
      "cell_type": "markdown",
      "metadata": {
        "id": "xgo-b6nG6xDE",
        "colab_type": "text"
      },
      "source": [
        "Esto simplifica mucho hacer cuéntas. Pero no es sólo sumar, también muchas otras operaciones:"
      ]
    },
    {
      "cell_type": "code",
      "metadata": {
        "id": "GDFrflQS6xDG",
        "colab_type": "code",
        "colab": {}
      },
      "source": [
        "print(arreglo - 5)\n",
        "print(arreglo - 2)\n",
        "print(arreglo*4)\n",
        "print(arreglo**2)"
      ],
      "execution_count": null,
      "outputs": []
    },
    {
      "cell_type": "markdown",
      "metadata": {
        "id": "OG5vEKqa6xDO",
        "colab_type": "text"
      },
      "source": [
        "Comprobar que, salvo la multiplicación, ninguno estaba permitido en listas. ¿Qué hace la multiplicación en el caso de una lista?"
      ]
    },
    {
      "cell_type": "markdown",
      "metadata": {
        "id": "8OLptg2q6xDP",
        "colab_type": "text"
      },
      "source": [
        "### 2.1 Creación de arreglos"
      ]
    },
    {
      "cell_type": "markdown",
      "metadata": {
        "id": "5Besuznw6xDR",
        "colab_type": "text"
      },
      "source": [
        "Si bien podemos crear arreglos a partir de listas, NumPy viene con muchas funciones para hacerlo. Veamos algunas.\n",
        "\n",
        "Una muy utilizada es `np.arange()`. Consulta su documentación. Otra opción es que, en una celda de código, escribas `np.arange` y aprietes `shift` + `tab`. De esa forma, te aparecerá la ayuda.\n",
        "\n",
        "Juega un poco con el ejemplo a continuación."
      ]
    },
    {
      "cell_type": "code",
      "metadata": {
        "id": "ffVupHId6xDS",
        "colab_type": "code",
        "colab": {}
      },
      "source": [
        "arreglo = np.arange(3,20,2)\n",
        "print(arreglo)"
      ],
      "execution_count": null,
      "outputs": []
    },
    {
      "cell_type": "markdown",
      "metadata": {
        "id": "GrbJZzEA6xDZ",
        "colab_type": "text"
      },
      "source": [
        "**Ejercicio:** investiga y crea ejemplos con las siguientes funciones\n",
        "* `np.linspace`. Presta particular atención a cómo se diferencia de `np.arange`.\n",
        "* `np.zeros` y `np.ones`\n",
        "\n",
        "### 2.2 Shape de los arreglos\n",
        "\n",
        "Los arreglos tienen muchos más propiedades que las listas. En particular, pueden tener más de un *eje* o dimensión. Veamos a qué nos referimos:"
      ]
    },
    {
      "cell_type": "code",
      "metadata": {
        "id": "2gj5gtxN6xDb",
        "colab_type": "code",
        "colab": {}
      },
      "source": [
        "arreglo_2d = np.array([[1,2,3,4],[5,6,7,8]])\n",
        "print(arreglo_2d)"
      ],
      "execution_count": null,
      "outputs": []
    },
    {
      "cell_type": "markdown",
      "metadata": {
        "id": "hd1tzKoY6xDi",
        "colab_type": "text"
      },
      "source": [
        "Notar que tiene dos filas y cuatro columnas. Podemos descubrir esto sin imprimirlo en pantalla, sino usando la propiedad `.shape` del arreglo."
      ]
    },
    {
      "cell_type": "code",
      "metadata": {
        "id": "39jXsa356xDk",
        "colab_type": "code",
        "colab": {}
      },
      "source": [
        "print(arreglo_2d.shape)"
      ],
      "execution_count": null,
      "outputs": []
    },
    {
      "cell_type": "markdown",
      "metadata": {
        "id": "F0gQzLOW6xDp",
        "colab_type": "text"
      },
      "source": [
        "Primero aparece el número de filas y luego el de columnas. ¿Qué estructura de dato es `(2, 4)`? Otro ejemplo:"
      ]
    },
    {
      "cell_type": "code",
      "metadata": {
        "id": "H-w91uc66xDr",
        "colab_type": "code",
        "colab": {}
      },
      "source": [
        "arreglo_2d = np.array([[1,2],[3,4],[5,6],[7,8]])\n",
        "print(arreglo_2d)\n",
        "print(arreglo_2d.shape)"
      ],
      "execution_count": null,
      "outputs": []
    },
    {
      "cell_type": "markdown",
      "metadata": {
        "id": "NI-72zHF6xDx",
        "colab_type": "text"
      },
      "source": [
        "Si queremos saber cuántos elementos tiene, podemos usar `.size`"
      ]
    },
    {
      "cell_type": "code",
      "metadata": {
        "id": "FAM3A5nN6xD1",
        "colab_type": "code",
        "colab": {}
      },
      "source": [
        "print(arreglo_2d.size)"
      ],
      "execution_count": null,
      "outputs": []
    },
    {
      "cell_type": "markdown",
      "metadata": {
        "id": "AHudbTb_6xD7",
        "colab_type": "text"
      },
      "source": [
        "### 2.3 Funciones que operan sobre arreglos\n",
        "\n",
        "Los arreglos de NumPy incorporan un montón de funciones que operan sobre los arreglos. Veamos algunos ejemplos."
      ]
    },
    {
      "cell_type": "code",
      "metadata": {
        "id": "rsZiMiFa6xD9",
        "colab_type": "code",
        "colab": {}
      },
      "source": [
        "un_arreglo = np.array([-100,2,3,17,25,1,95])\n",
        "print(un_arreglo.min())\n",
        "print(un_arreglo.max())"
      ],
      "execution_count": null,
      "outputs": []
    },
    {
      "cell_type": "markdown",
      "metadata": {
        "id": "E6xoQQOF6xED",
        "colab_type": "text"
      },
      "source": [
        "En el caso 2D, podemos pedir que estas funciones operen sobre todo el arreglo, o por ejes.\n",
        "\n"
      ]
    },
    {
      "cell_type": "code",
      "metadata": {
        "id": "V-MBXYIo6xEH",
        "colab_type": "code",
        "colab": {}
      },
      "source": [
        "# No te preocupes si no entiendes lo que hace esta celda\n",
        "arreglo_2d = np.arange(9)\n",
        "np.random.shuffle(arreglo_2d)\n",
        "arreglo_2d = arreglo_2d.reshape((3,3))\n",
        "print(arreglo_2d)"
      ],
      "execution_count": null,
      "outputs": []
    },
    {
      "cell_type": "markdown",
      "metadata": {
        "id": "ieZnEuby6xEN",
        "colab_type": "text"
      },
      "source": [
        "Trata de entender la diferencia entre las siguientes instrucciones:"
      ]
    },
    {
      "cell_type": "code",
      "metadata": {
        "id": "sUB0kNoj6xET",
        "colab_type": "code",
        "colab": {}
      },
      "source": [
        "print(arreglo_2d.max())\n",
        "print(arreglo_2d.max(axis = 0))\n",
        "print(arreglo_2d.max(axis = 1))"
      ],
      "execution_count": null,
      "outputs": []
    },
    {
      "cell_type": "markdown",
      "metadata": {
        "id": "WtKLIys36xEY",
        "colab_type": "text"
      },
      "source": [
        "### Últimos comentarios\n",
        "\n",
        "* No dijimos nada sobre indexado ni slicing. Esto se debe a que, para arreglos 1D, es similar que para la listas. Para arreglos 2D, es apenas más complicado. Para estudiarlo, jugar con la siguiente celda:"
      ]
    },
    {
      "cell_type": "code",
      "metadata": {
        "id": "CNAbEbBw6xEa",
        "colab_type": "code",
        "colab": {}
      },
      "source": [
        "arreglo_2d = np.arange(9).reshape(3,3)\n",
        "print(arreglo_2d)\n",
        "print(arreglo_2d[1,:])"
      ],
      "execution_count": null,
      "outputs": []
    },
    {
      "cell_type": "markdown",
      "metadata": {
        "id": "svHQKfw_6xEg",
        "colab_type": "text"
      },
      "source": [
        "* Podemos usar `arreglo.max()` o `np.max(arreglo)`. Esto no es válido solamente para la función `max()`, sino también para casi todas las funciones que operen sobre arreglos. "
      ]
    },
    {
      "cell_type": "code",
      "metadata": {
        "id": "aTBJASA26xEh",
        "colab_type": "code",
        "colab": {}
      },
      "source": [
        "print(np.min(un_arreglo), un_arreglo.min())"
      ],
      "execution_count": null,
      "outputs": []
    },
    {
      "cell_type": "markdown",
      "metadata": {
        "id": "vL5QD71a6xEo",
        "colab_type": "text"
      },
      "source": [
        "Existe mucho más - realmente mucho más - para decir sobre NumPy. Pero mucho irá apareciendo a medida que lo vayamos necesitando. Y, además, ¡este notebook ya es muy largo!\n",
        "\n",
        "### Ejercitación\n",
        "\n",
        "**Ejercicio 1**: Escribir un arreglo con 100 números equiespaciados del 0 al 9. Pista: `linspace`"
      ]
    },
    {
      "cell_type": "code",
      "metadata": {
        "id": "_p2bvcte6xEq",
        "colab_type": "code",
        "colab": {}
      },
      "source": [
        "# COMPLETAR"
      ],
      "execution_count": null,
      "outputs": []
    },
    {
      "cell_type": "markdown",
      "metadata": {
        "id": "1qRG5b3m6xEv",
        "colab_type": "text"
      },
      "source": [
        "**Ejercicio 2:** crear un arreglo 1D de 20 ceros. Reemplazar los primeros 15 elementos por unos."
      ]
    },
    {
      "cell_type": "code",
      "metadata": {
        "id": "6xPwCrg26xEx",
        "colab_type": "code",
        "colab": {}
      },
      "source": [
        "# COMPLETAR"
      ],
      "execution_count": null,
      "outputs": []
    },
    {
      "cell_type": "markdown",
      "metadata": {
        "id": "IwdggYiK6xE1",
        "colab_type": "text"
      },
      "source": [
        "**Ejercicio 3:** crear un arreglo 1D de 50 ceros. Reemplazar los primeros 25 elementos por los números naturales del 0 al 24."
      ]
    },
    {
      "cell_type": "code",
      "metadata": {
        "id": "Sp5joIbM6xE3",
        "colab_type": "code",
        "colab": {}
      },
      "source": [
        "# COMPLETAR"
      ],
      "execution_count": null,
      "outputs": []
    },
    {
      "cell_type": "markdown",
      "metadata": {
        "id": "Vx74LT026xE-",
        "colab_type": "text"
      },
      "source": [
        "**Ejercicio 4:** crear un arreglo 2D de 3 filas y 3 columnas, lleno de ceros. Reemplazar los elemento de la segunda columna por los números 1, 2 y 3 respectivamente. Es decir, crear la siguiente matriz:\n",
        "\n",
        "```\n",
        "0 1 0 \n",
        "0 2 0\n",
        "0 3 0\n",
        "```"
      ]
    },
    {
      "cell_type": "code",
      "metadata": {
        "id": "ckTUAo6D6xE_",
        "colab_type": "code",
        "colab": {}
      },
      "source": [
        "# COMPLETAR"
      ],
      "execution_count": null,
      "outputs": []
    },
    {
      "cell_type": "markdown",
      "metadata": {
        "id": "5K-FKtOA6xFE",
        "colab_type": "text"
      },
      "source": [
        "**Ejercicio 5:** crear un arreglo 2D de 3 filas y 3 columnas, lleno de ceros. Reemplazar los elemento de la diagonal por unos. Es decir, crear la siguiente matriz:\n",
        "\n",
        "```\n",
        "1 0 0 \n",
        "0 1 0\n",
        "0 0 1\n",
        "```"
      ]
    },
    {
      "cell_type": "code",
      "metadata": {
        "id": "VrkZuD4S6xFH",
        "colab_type": "code",
        "colab": {}
      },
      "source": [
        "# COMPLETAR"
      ],
      "execution_count": null,
      "outputs": []
    },
    {
      "cell_type": "markdown",
      "metadata": {
        "id": "Ap348o4h6xFN",
        "colab_type": "text"
      },
      "source": [
        "**Ejercicio 6:** crear un arreglo 2D de 100 filas y 100 columnas, lleno de ceros. Reemplazar los elemento de la diagonal por unos. Es decir, crear la siguiente matriz:\n",
        "\n",
        "```\n",
        "1 0 0 ... 0 0 0 \n",
        "0 1 0 ... 0 0 0\n",
        "0 0 1 ... 0 0 0\n",
        "...  \n",
        "0 0 0 ... 1 0 0\n",
        "0 0 0 ... 0 1 0\n",
        "0 0 0 ... 0 0 1\n",
        "```"
      ]
    },
    {
      "cell_type": "code",
      "metadata": {
        "id": "UHkEt17i6xFP",
        "colab_type": "code",
        "colab": {}
      },
      "source": [
        "# COMPLETAR"
      ],
      "execution_count": null,
      "outputs": []
    },
    {
      "cell_type": "markdown",
      "metadata": {
        "id": "T78FHjuU6xFV",
        "colab_type": "text"
      },
      "source": [
        "**Extra:** ¿Qué tipo de dato está usando NumPy cuando crea los arreglos?¿Y si queremos cambiarle el tipo de dato, por ejemplo a `int`? Googlear \"numpy astype\". ¿Qué pasa si usamos `astype(bool)`?"
      ]
    }
  ]
}